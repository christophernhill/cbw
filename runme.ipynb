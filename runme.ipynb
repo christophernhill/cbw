{
  "nbformat": 4,
  "nbformat_minor": 0,
  "metadata": {
    "colab": {
      "provenance": [],
      "include_colab_link": true
    },
    "kernelspec": {
      "name": "python3",
      "display_name": "Python 3"
    },
    "language_info": {
      "name": "python"
    }
  },
  "cells": [
    {
      "cell_type": "markdown",
      "metadata": {
        "id": "view-in-github",
        "colab_type": "text"
      },
      "source": [
        "<a href=\"https://colab.research.google.com/github/christophernhill/cbw/blob/main/runme.ipynb\" target=\"_parent\"><img src=\"https://colab.research.google.com/assets/colab-badge.svg\" alt=\"Open In Colab\"/></a>"
      ]
    },
    {
      "cell_type": "code",
      "execution_count": 7,
      "metadata": {
        "id": "Fe3JPASRGFfm",
        "outputId": "898b1df3-5702-492c-d634-cf5eff0dc4e7",
        "colab": {
          "base_uri": "https://localhost:8080/"
        }
      },
      "outputs": [
        {
          "output_type": "stream",
          "name": "stdout",
          "text": [
            "--2023-06-23 02:39:51--  https://raw.githubusercontent.com/christophernhill/cbw/main/setup_clab.py\n",
            "Resolving raw.githubusercontent.com (raw.githubusercontent.com)... 185.199.111.133, 185.199.109.133, 185.199.110.133, ...\n",
            "Connecting to raw.githubusercontent.com (raw.githubusercontent.com)|185.199.111.133|:443... connected.\n",
            "HTTP request sent, awaiting response... 200 OK\n",
            "Length: 5 [text/plain]\n",
            "Saving to: ‘setup_clab.py’\n",
            "\n",
            "\rsetup_clab.py         0%[                    ]       0  --.-KB/s               \rsetup_clab.py       100%[===================>]       5  --.-KB/s    in 0s      \n",
            "\n",
            "2023-06-23 02:39:51 (331 KB/s) - ‘setup_clab.py’ saved [5/5]\n",
            "\n"
          ]
        }
      ],
      "source": [
        "!wget https://raw.githubusercontent.com/christophernhill/cbw/main/setup_clab.sh\n",
        "!bash setup_clab.sh"
      ]
    },
    {
      "cell_type": "code",
      "source": [
        "!bash setup_clab.py"
      ],
      "metadata": {
        "id": "fHihnjvYH3z9",
        "outputId": "82db081b-5675-4913-ae29-4f73f54e05ff",
        "colab": {
          "base_uri": "https://localhost:8080/"
        }
      },
      "execution_count": 10,
      "outputs": [
        {
          "output_type": "stream",
          "name": "stdout",
          "text": [
            "setup_clab.py: line 1: !pwd: command not found\n"
          ]
        }
      ]
    },
    {
      "cell_type": "code",
      "source": [],
      "metadata": {
        "id": "_ONUYp2WH4kN"
      },
      "execution_count": null,
      "outputs": []
    }
  ]
}